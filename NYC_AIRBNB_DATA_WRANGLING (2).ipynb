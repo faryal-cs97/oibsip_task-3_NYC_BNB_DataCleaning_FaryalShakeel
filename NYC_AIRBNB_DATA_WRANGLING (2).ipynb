{
 "cells": [
  {
   "cell_type": "markdown",
   "id": "a2cd2b9b",
   "metadata": {},
   "source": [
    "##                                             OIBSIP TASK # 3"
   ]
  },
  {
   "cell_type": "markdown",
   "id": "90e0e7e4-4ced-41f3-af68-3f863d2131fd",
   "metadata": {},
   "source": [
    " ##              DATA CLEANING ON NYC AIRBNB DATASET"
   ]
  },
  {
   "cell_type": "markdown",
   "id": "c4297136-904c-4dd5-a9db-4d4d17458053",
   "metadata": {},
   "source": [
    "# 1. DATA INTEGRITY"
   ]
  },
  {
   "cell_type": "code",
   "execution_count": 135,
   "id": "9483a0ae-9340-4c33-8f38-96cddbff5fe3",
   "metadata": {},
   "outputs": [],
   "source": [
    "import pandas as pd\n",
    "import numpy as np\n",
    "import matplotlib.pylab as plt\n",
    "import seaborn as sns\n",
    "%matplotlib inline"
   ]
  },
  {
   "cell_type": "code",
   "execution_count": 136,
   "id": "3caa8611-1ab1-423e-a081-f887694c351e",
   "metadata": {},
   "outputs": [],
   "source": [
    "df=pd.read_csv(\"/home/ammar-ahmed-siddiqui/Downloads/drive-download-20240815T044351Z-001/AB_NYC_2019.csv\")"
   ]
  },
  {
   "cell_type": "code",
   "execution_count": 137,
   "id": "78019f1e-3d7b-40bc-b72a-6bdaf0deb3bd",
   "metadata": {},
   "outputs": [
    {
     "data": {
      "text/html": [
       "<div>\n",
       "<style scoped>\n",
       "    .dataframe tbody tr th:only-of-type {\n",
       "        vertical-align: middle;\n",
       "    }\n",
       "\n",
       "    .dataframe tbody tr th {\n",
       "        vertical-align: top;\n",
       "    }\n",
       "\n",
       "    .dataframe thead th {\n",
       "        text-align: right;\n",
       "    }\n",
       "</style>\n",
       "<table border=\"1\" class=\"dataframe\">\n",
       "  <thead>\n",
       "    <tr style=\"text-align: right;\">\n",
       "      <th></th>\n",
       "      <th>id</th>\n",
       "      <th>name</th>\n",
       "      <th>host_id</th>\n",
       "      <th>host_name</th>\n",
       "      <th>neighbourhood_group</th>\n",
       "      <th>neighbourhood</th>\n",
       "      <th>latitude</th>\n",
       "      <th>longitude</th>\n",
       "      <th>room_type</th>\n",
       "      <th>price</th>\n",
       "      <th>minimum_nights</th>\n",
       "      <th>number_of_reviews</th>\n",
       "      <th>last_review</th>\n",
       "      <th>reviews_per_month</th>\n",
       "      <th>calculated_host_listings_count</th>\n",
       "      <th>availability_365</th>\n",
       "    </tr>\n",
       "  </thead>\n",
       "  <tbody>\n",
       "    <tr>\n",
       "      <th>0</th>\n",
       "      <td>2539</td>\n",
       "      <td>Clean &amp; quiet apt home by the park</td>\n",
       "      <td>2787</td>\n",
       "      <td>John</td>\n",
       "      <td>Brooklyn</td>\n",
       "      <td>Kensington</td>\n",
       "      <td>40.64749</td>\n",
       "      <td>-73.97237</td>\n",
       "      <td>Private room</td>\n",
       "      <td>149</td>\n",
       "      <td>1</td>\n",
       "      <td>9</td>\n",
       "      <td>2018-10-19</td>\n",
       "      <td>0.21</td>\n",
       "      <td>6</td>\n",
       "      <td>365</td>\n",
       "    </tr>\n",
       "    <tr>\n",
       "      <th>1</th>\n",
       "      <td>2595</td>\n",
       "      <td>Skylit Midtown Castle</td>\n",
       "      <td>2845</td>\n",
       "      <td>Jennifer</td>\n",
       "      <td>Manhattan</td>\n",
       "      <td>Midtown</td>\n",
       "      <td>40.75362</td>\n",
       "      <td>-73.98377</td>\n",
       "      <td>Entire home/apt</td>\n",
       "      <td>225</td>\n",
       "      <td>1</td>\n",
       "      <td>45</td>\n",
       "      <td>2019-05-21</td>\n",
       "      <td>0.38</td>\n",
       "      <td>2</td>\n",
       "      <td>355</td>\n",
       "    </tr>\n",
       "    <tr>\n",
       "      <th>2</th>\n",
       "      <td>3647</td>\n",
       "      <td>THE VILLAGE OF HARLEM....NEW YORK !</td>\n",
       "      <td>4632</td>\n",
       "      <td>Elisabeth</td>\n",
       "      <td>Manhattan</td>\n",
       "      <td>Harlem</td>\n",
       "      <td>40.80902</td>\n",
       "      <td>-73.94190</td>\n",
       "      <td>Private room</td>\n",
       "      <td>150</td>\n",
       "      <td>3</td>\n",
       "      <td>0</td>\n",
       "      <td>NaN</td>\n",
       "      <td>NaN</td>\n",
       "      <td>1</td>\n",
       "      <td>365</td>\n",
       "    </tr>\n",
       "    <tr>\n",
       "      <th>3</th>\n",
       "      <td>3831</td>\n",
       "      <td>Cozy Entire Floor of Brownstone</td>\n",
       "      <td>4869</td>\n",
       "      <td>LisaRoxanne</td>\n",
       "      <td>Brooklyn</td>\n",
       "      <td>Clinton Hill</td>\n",
       "      <td>40.68514</td>\n",
       "      <td>-73.95976</td>\n",
       "      <td>Entire home/apt</td>\n",
       "      <td>89</td>\n",
       "      <td>1</td>\n",
       "      <td>270</td>\n",
       "      <td>2019-07-05</td>\n",
       "      <td>4.64</td>\n",
       "      <td>1</td>\n",
       "      <td>194</td>\n",
       "    </tr>\n",
       "    <tr>\n",
       "      <th>4</th>\n",
       "      <td>5022</td>\n",
       "      <td>Entire Apt: Spacious Studio/Loft by central park</td>\n",
       "      <td>7192</td>\n",
       "      <td>Laura</td>\n",
       "      <td>Manhattan</td>\n",
       "      <td>East Harlem</td>\n",
       "      <td>40.79851</td>\n",
       "      <td>-73.94399</td>\n",
       "      <td>Entire home/apt</td>\n",
       "      <td>80</td>\n",
       "      <td>10</td>\n",
       "      <td>9</td>\n",
       "      <td>2018-11-19</td>\n",
       "      <td>0.10</td>\n",
       "      <td>1</td>\n",
       "      <td>0</td>\n",
       "    </tr>\n",
       "  </tbody>\n",
       "</table>\n",
       "</div>"
      ],
      "text/plain": [
       "     id                                              name  host_id  \\\n",
       "0  2539                Clean & quiet apt home by the park     2787   \n",
       "1  2595                             Skylit Midtown Castle     2845   \n",
       "2  3647               THE VILLAGE OF HARLEM....NEW YORK !     4632   \n",
       "3  3831                   Cozy Entire Floor of Brownstone     4869   \n",
       "4  5022  Entire Apt: Spacious Studio/Loft by central park     7192   \n",
       "\n",
       "     host_name neighbourhood_group neighbourhood  latitude  longitude  \\\n",
       "0         John            Brooklyn    Kensington  40.64749  -73.97237   \n",
       "1     Jennifer           Manhattan       Midtown  40.75362  -73.98377   \n",
       "2    Elisabeth           Manhattan        Harlem  40.80902  -73.94190   \n",
       "3  LisaRoxanne            Brooklyn  Clinton Hill  40.68514  -73.95976   \n",
       "4        Laura           Manhattan   East Harlem  40.79851  -73.94399   \n",
       "\n",
       "         room_type  price  minimum_nights  number_of_reviews last_review  \\\n",
       "0     Private room    149               1                  9  2018-10-19   \n",
       "1  Entire home/apt    225               1                 45  2019-05-21   \n",
       "2     Private room    150               3                  0         NaN   \n",
       "3  Entire home/apt     89               1                270  2019-07-05   \n",
       "4  Entire home/apt     80              10                  9  2018-11-19   \n",
       "\n",
       "   reviews_per_month  calculated_host_listings_count  availability_365  \n",
       "0               0.21                               6               365  \n",
       "1               0.38                               2               355  \n",
       "2                NaN                               1               365  \n",
       "3               4.64                               1               194  \n",
       "4               0.10                               1                 0  "
      ]
     },
     "execution_count": 137,
     "metadata": {},
     "output_type": "execute_result"
    }
   ],
   "source": [
    "df.head()"
   ]
  },
  {
   "cell_type": "code",
   "execution_count": 138,
   "id": "1cb70c15-a9be-47d2-92c0-365f1264672a",
   "metadata": {},
   "outputs": [
    {
     "name": "stdout",
     "output_type": "stream",
     "text": [
      "id                                  int64\n",
      "name                               object\n",
      "host_id                             int64\n",
      "host_name                          object\n",
      "neighbourhood_group                object\n",
      "neighbourhood                      object\n",
      "latitude                          float64\n",
      "longitude                         float64\n",
      "room_type                          object\n",
      "price                               int64\n",
      "minimum_nights                      int64\n",
      "number_of_reviews                   int64\n",
      "last_review                        object\n",
      "reviews_per_month                 float64\n",
      "calculated_host_listings_count      int64\n",
      "availability_365                    int64\n",
      "dtype: object\n"
     ]
    }
   ],
   "source": [
    "# list the data types for each column\n",
    "print(df.dtypes)"
   ]
  },
  {
   "cell_type": "code",
   "execution_count": 139,
   "id": "f991a758-0a32-45dd-9d3b-ac62158644c9",
   "metadata": {},
   "outputs": [
    {
     "name": "stdout",
     "output_type": "stream",
     "text": [
      "Size of the dataset:  782320\n",
      "Columns in the dataset:  Index(['id', 'name', 'host_id', 'host_name', 'neighbourhood_group',\n",
      "       'neighbourhood', 'latitude', 'longitude', 'room_type', 'price',\n",
      "       'minimum_nights', 'number_of_reviews', 'last_review',\n",
      "       'reviews_per_month', 'calculated_host_listings_count',\n",
      "       'availability_365'],\n",
      "      dtype='object')\n"
     ]
    }
   ],
   "source": [
    "print(\"Size of the dataset: \", df.size)\n",
    "print(\"Columns in the dataset: \", df.keys())"
   ]
  },
  {
   "cell_type": "code",
   "execution_count": 140,
   "id": "168774f2-65b4-4942-8a2b-0a9fd45d5809",
   "metadata": {},
   "outputs": [
    {
     "name": "stdout",
     "output_type": "stream",
     "text": [
      "Number of rows 48895\n",
      "Number of columns 16\n"
     ]
    }
   ],
   "source": [
    "print(\"Number of rows\",df.shape[0])\n",
    "print(\"Number of columns\",df.shape[1])"
   ]
  },
  {
   "cell_type": "code",
   "execution_count": 141,
   "id": "d9ff05da-e565-48f9-8ad5-73178f9c53ba",
   "metadata": {},
   "outputs": [
    {
     "data": {
      "text/html": [
       "<div>\n",
       "<style scoped>\n",
       "    .dataframe tbody tr th:only-of-type {\n",
       "        vertical-align: middle;\n",
       "    }\n",
       "\n",
       "    .dataframe tbody tr th {\n",
       "        vertical-align: top;\n",
       "    }\n",
       "\n",
       "    .dataframe thead th {\n",
       "        text-align: right;\n",
       "    }\n",
       "</style>\n",
       "<table border=\"1\" class=\"dataframe\">\n",
       "  <thead>\n",
       "    <tr style=\"text-align: right;\">\n",
       "      <th></th>\n",
       "      <th>id</th>\n",
       "      <th>host_id</th>\n",
       "      <th>latitude</th>\n",
       "      <th>longitude</th>\n",
       "      <th>price</th>\n",
       "      <th>minimum_nights</th>\n",
       "      <th>number_of_reviews</th>\n",
       "      <th>reviews_per_month</th>\n",
       "      <th>calculated_host_listings_count</th>\n",
       "      <th>availability_365</th>\n",
       "    </tr>\n",
       "  </thead>\n",
       "  <tbody>\n",
       "    <tr>\n",
       "      <th>count</th>\n",
       "      <td>4.889500e+04</td>\n",
       "      <td>4.889500e+04</td>\n",
       "      <td>48895.000000</td>\n",
       "      <td>48895.000000</td>\n",
       "      <td>48895.000000</td>\n",
       "      <td>48895.000000</td>\n",
       "      <td>48895.000000</td>\n",
       "      <td>38843.000000</td>\n",
       "      <td>48895.000000</td>\n",
       "      <td>48895.000000</td>\n",
       "    </tr>\n",
       "    <tr>\n",
       "      <th>mean</th>\n",
       "      <td>1.901714e+07</td>\n",
       "      <td>6.762001e+07</td>\n",
       "      <td>40.728949</td>\n",
       "      <td>-73.952170</td>\n",
       "      <td>152.720687</td>\n",
       "      <td>7.029962</td>\n",
       "      <td>23.274466</td>\n",
       "      <td>1.373221</td>\n",
       "      <td>7.143982</td>\n",
       "      <td>112.781327</td>\n",
       "    </tr>\n",
       "    <tr>\n",
       "      <th>std</th>\n",
       "      <td>1.098311e+07</td>\n",
       "      <td>7.861097e+07</td>\n",
       "      <td>0.054530</td>\n",
       "      <td>0.046157</td>\n",
       "      <td>240.154170</td>\n",
       "      <td>20.510550</td>\n",
       "      <td>44.550582</td>\n",
       "      <td>1.680442</td>\n",
       "      <td>32.952519</td>\n",
       "      <td>131.622289</td>\n",
       "    </tr>\n",
       "    <tr>\n",
       "      <th>min</th>\n",
       "      <td>2.539000e+03</td>\n",
       "      <td>2.438000e+03</td>\n",
       "      <td>40.499790</td>\n",
       "      <td>-74.244420</td>\n",
       "      <td>0.000000</td>\n",
       "      <td>1.000000</td>\n",
       "      <td>0.000000</td>\n",
       "      <td>0.010000</td>\n",
       "      <td>1.000000</td>\n",
       "      <td>0.000000</td>\n",
       "    </tr>\n",
       "    <tr>\n",
       "      <th>25%</th>\n",
       "      <td>9.471945e+06</td>\n",
       "      <td>7.822033e+06</td>\n",
       "      <td>40.690100</td>\n",
       "      <td>-73.983070</td>\n",
       "      <td>69.000000</td>\n",
       "      <td>1.000000</td>\n",
       "      <td>1.000000</td>\n",
       "      <td>0.190000</td>\n",
       "      <td>1.000000</td>\n",
       "      <td>0.000000</td>\n",
       "    </tr>\n",
       "    <tr>\n",
       "      <th>50%</th>\n",
       "      <td>1.967728e+07</td>\n",
       "      <td>3.079382e+07</td>\n",
       "      <td>40.723070</td>\n",
       "      <td>-73.955680</td>\n",
       "      <td>106.000000</td>\n",
       "      <td>3.000000</td>\n",
       "      <td>5.000000</td>\n",
       "      <td>0.720000</td>\n",
       "      <td>1.000000</td>\n",
       "      <td>45.000000</td>\n",
       "    </tr>\n",
       "    <tr>\n",
       "      <th>75%</th>\n",
       "      <td>2.915218e+07</td>\n",
       "      <td>1.074344e+08</td>\n",
       "      <td>40.763115</td>\n",
       "      <td>-73.936275</td>\n",
       "      <td>175.000000</td>\n",
       "      <td>5.000000</td>\n",
       "      <td>24.000000</td>\n",
       "      <td>2.020000</td>\n",
       "      <td>2.000000</td>\n",
       "      <td>227.000000</td>\n",
       "    </tr>\n",
       "    <tr>\n",
       "      <th>max</th>\n",
       "      <td>3.648724e+07</td>\n",
       "      <td>2.743213e+08</td>\n",
       "      <td>40.913060</td>\n",
       "      <td>-73.712990</td>\n",
       "      <td>10000.000000</td>\n",
       "      <td>1250.000000</td>\n",
       "      <td>629.000000</td>\n",
       "      <td>58.500000</td>\n",
       "      <td>327.000000</td>\n",
       "      <td>365.000000</td>\n",
       "    </tr>\n",
       "  </tbody>\n",
       "</table>\n",
       "</div>"
      ],
      "text/plain": [
       "                 id       host_id      latitude     longitude         price  \\\n",
       "count  4.889500e+04  4.889500e+04  48895.000000  48895.000000  48895.000000   \n",
       "mean   1.901714e+07  6.762001e+07     40.728949    -73.952170    152.720687   \n",
       "std    1.098311e+07  7.861097e+07      0.054530      0.046157    240.154170   \n",
       "min    2.539000e+03  2.438000e+03     40.499790    -74.244420      0.000000   \n",
       "25%    9.471945e+06  7.822033e+06     40.690100    -73.983070     69.000000   \n",
       "50%    1.967728e+07  3.079382e+07     40.723070    -73.955680    106.000000   \n",
       "75%    2.915218e+07  1.074344e+08     40.763115    -73.936275    175.000000   \n",
       "max    3.648724e+07  2.743213e+08     40.913060    -73.712990  10000.000000   \n",
       "\n",
       "       minimum_nights  number_of_reviews  reviews_per_month  \\\n",
       "count    48895.000000       48895.000000       38843.000000   \n",
       "mean         7.029962          23.274466           1.373221   \n",
       "std         20.510550          44.550582           1.680442   \n",
       "min          1.000000           0.000000           0.010000   \n",
       "25%          1.000000           1.000000           0.190000   \n",
       "50%          3.000000           5.000000           0.720000   \n",
       "75%          5.000000          24.000000           2.020000   \n",
       "max       1250.000000         629.000000          58.500000   \n",
       "\n",
       "       calculated_host_listings_count  availability_365  \n",
       "count                    48895.000000      48895.000000  \n",
       "mean                         7.143982        112.781327  \n",
       "std                         32.952519        131.622289  \n",
       "min                          1.000000          0.000000  \n",
       "25%                          1.000000          0.000000  \n",
       "50%                          1.000000         45.000000  \n",
       "75%                          2.000000        227.000000  \n",
       "max                        327.000000        365.000000  "
      ]
     },
     "execution_count": 141,
     "metadata": {},
     "output_type": "execute_result"
    }
   ],
   "source": [
    "df.describe()"
   ]
  },
  {
   "cell_type": "code",
   "execution_count": 142,
   "id": "bded7581-4e0f-48a4-83b3-0e2230bf63fa",
   "metadata": {},
   "outputs": [
    {
     "data": {
      "text/plain": [
       "id                                48895\n",
       "name                              47905\n",
       "host_id                           37457\n",
       "host_name                         11452\n",
       "neighbourhood_group                   5\n",
       "neighbourhood                       221\n",
       "latitude                          19048\n",
       "longitude                         14718\n",
       "room_type                             3\n",
       "price                               674\n",
       "minimum_nights                      109\n",
       "number_of_reviews                   394\n",
       "last_review                        1764\n",
       "reviews_per_month                   937\n",
       "calculated_host_listings_count       47\n",
       "availability_365                    366\n",
       "dtype: int64"
      ]
     },
     "execution_count": 142,
     "metadata": {},
     "output_type": "execute_result"
    }
   ],
   "source": [
    "# Insight about unique values\n",
    "df.nunique()"
   ]
  },
  {
   "cell_type": "markdown",
   "id": "8025434c-2e9f-463d-8ce8-678e10a9c52c",
   "metadata": {},
   "source": [
    "# The data have 5 major locations in dataset and only 3 room types available."
   ]
  },
  {
   "cell_type": "code",
   "execution_count": 143,
   "id": "8575b664-c7e6-4038-99bd-26506ac10776",
   "metadata": {},
   "outputs": [
    {
     "data": {
      "text/plain": [
       "array(['Private room', 'Entire home/apt', 'Shared room'], dtype=object)"
      ]
     },
     "execution_count": 143,
     "metadata": {},
     "output_type": "execute_result"
    }
   ],
   "source": [
    "# see how many room types do we have\n",
    "df.room_type.unique()"
   ]
  },
  {
   "cell_type": "code",
   "execution_count": 144,
   "id": "6145b878-68f4-40be-ae50-d828ca986e34",
   "metadata": {},
   "outputs": [
    {
     "data": {
      "text/plain": [
       "array(['Brooklyn', 'Manhattan', 'Queens', 'Staten Island', 'Bronx'],\n",
       "      dtype=object)"
      ]
     },
     "execution_count": 144,
     "metadata": {},
     "output_type": "execute_result"
    }
   ],
   "source": [
    "# see how many neighbourhood groups\n",
    "df.neighbourhood_group.unique()"
   ]
  },
  {
   "cell_type": "markdown",
   "id": "d5570784-8f09-4143-b31d-e6100cab60d1",
   "metadata": {},
   "source": [
    "# 2. MISSING DATA HANDLING"
   ]
  },
  {
   "cell_type": "code",
   "execution_count": 145,
   "id": "c1732ff2-499c-4e0f-a2cb-982ad109ea44",
   "metadata": {},
   "outputs": [
    {
     "name": "stdout",
     "output_type": "stream",
     "text": [
      "Is there any null or missing values ?  True\n",
      "percentage of null values in particular column id                                  0.000000\n",
      "name                                0.327232\n",
      "host_id                             0.000000\n",
      "host_name                           0.429492\n",
      "neighbourhood_group                 0.000000\n",
      "neighbourhood                       0.000000\n",
      "latitude                            0.000000\n",
      "longitude                           0.000000\n",
      "room_type                           0.000000\n",
      "price                               0.000000\n",
      "minimum_nights                      0.000000\n",
      "number_of_reviews                   0.000000\n",
      "last_review                       205.583393\n",
      "reviews_per_month                 205.583393\n",
      "calculated_host_listings_count      0.000000\n",
      "availability_365                    0.000000\n",
      "dtype: float64\n"
     ]
    }
   ],
   "source": [
    "print(\"Is there any null or missing values ? \",df.isnull().sum().any())\n",
    "print(\"percentage of null values in particular column\",df.isnull().sum()/len(df)*1000)"
   ]
  },
  {
   "cell_type": "markdown",
   "id": "8ea261b0-e52b-475f-a5fa-ddff469906f7",
   "metadata": {},
   "source": [
    " 1 \n",
    "Drop all unnecessary columns (name,host_name, last_revie as 0"
   ]
  },
  {
   "cell_type": "markdown",
   "id": "75858c45-5d97-470a-9fdf-0fcbe7470525",
   "metadata": {},
   "source": [
    "2 Change data types for neighbourhood_group,neighbourhood,room_type to categorical data "
   ]
  },
  {
   "cell_type": "markdown",
   "id": "ea002aa0-78fb-4e7a-a8e6-03e02eefa22d",
   "metadata": {},
   "source": [
    " 3 Fill all NA values in reviews_per_month as 0"
   ]
  },
  {
   "cell_type": "markdown",
   "id": "c66a438b-d640-4808-bca2-68fd81874a20",
   "metadata": {},
   "source": [
    " 4 Drop all listings with price as 0"
   ]
  },
  {
   "cell_type": "code",
   "execution_count": 146,
   "id": "69302597-5cc2-4a95-9d5f-3772fdd74c5f",
   "metadata": {},
   "outputs": [
    {
     "data": {
      "text/html": [
       "<div>\n",
       "<style scoped>\n",
       "    .dataframe tbody tr th:only-of-type {\n",
       "        vertical-align: middle;\n",
       "    }\n",
       "\n",
       "    .dataframe tbody tr th {\n",
       "        vertical-align: top;\n",
       "    }\n",
       "\n",
       "    .dataframe thead th {\n",
       "        text-align: right;\n",
       "    }\n",
       "</style>\n",
       "<table border=\"1\" class=\"dataframe\">\n",
       "  <thead>\n",
       "    <tr style=\"text-align: right;\">\n",
       "      <th></th>\n",
       "      <th>id</th>\n",
       "      <th>name</th>\n",
       "      <th>host_id</th>\n",
       "      <th>host_name</th>\n",
       "      <th>neighbourhood_group</th>\n",
       "      <th>neighbourhood</th>\n",
       "      <th>latitude</th>\n",
       "      <th>longitude</th>\n",
       "      <th>room_type</th>\n",
       "      <th>price</th>\n",
       "      <th>minimum_nights</th>\n",
       "      <th>number_of_reviews</th>\n",
       "      <th>last_review</th>\n",
       "      <th>reviews_per_month</th>\n",
       "      <th>calculated_host_listings_count</th>\n",
       "      <th>availability_365</th>\n",
       "    </tr>\n",
       "  </thead>\n",
       "  <tbody>\n",
       "    <tr>\n",
       "      <th>0</th>\n",
       "      <td>2539</td>\n",
       "      <td>Clean &amp; quiet apt home by the park</td>\n",
       "      <td>2787</td>\n",
       "      <td>John</td>\n",
       "      <td>Brooklyn</td>\n",
       "      <td>Kensington</td>\n",
       "      <td>40.64749</td>\n",
       "      <td>-73.97237</td>\n",
       "      <td>Private room</td>\n",
       "      <td>149</td>\n",
       "      <td>1</td>\n",
       "      <td>9</td>\n",
       "      <td>2018-10-19</td>\n",
       "      <td>0.21</td>\n",
       "      <td>6</td>\n",
       "      <td>365</td>\n",
       "    </tr>\n",
       "    <tr>\n",
       "      <th>1</th>\n",
       "      <td>2595</td>\n",
       "      <td>Skylit Midtown Castle</td>\n",
       "      <td>2845</td>\n",
       "      <td>Jennifer</td>\n",
       "      <td>Manhattan</td>\n",
       "      <td>Midtown</td>\n",
       "      <td>40.75362</td>\n",
       "      <td>-73.98377</td>\n",
       "      <td>Entire home/apt</td>\n",
       "      <td>225</td>\n",
       "      <td>1</td>\n",
       "      <td>45</td>\n",
       "      <td>2019-05-21</td>\n",
       "      <td>0.38</td>\n",
       "      <td>2</td>\n",
       "      <td>355</td>\n",
       "    </tr>\n",
       "    <tr>\n",
       "      <th>2</th>\n",
       "      <td>3647</td>\n",
       "      <td>THE VILLAGE OF HARLEM....NEW YORK !</td>\n",
       "      <td>4632</td>\n",
       "      <td>Elisabeth</td>\n",
       "      <td>Manhattan</td>\n",
       "      <td>Harlem</td>\n",
       "      <td>40.80902</td>\n",
       "      <td>-73.94190</td>\n",
       "      <td>Private room</td>\n",
       "      <td>150</td>\n",
       "      <td>3</td>\n",
       "      <td>0</td>\n",
       "      <td>NaN</td>\n",
       "      <td>NaN</td>\n",
       "      <td>1</td>\n",
       "      <td>365</td>\n",
       "    </tr>\n",
       "    <tr>\n",
       "      <th>3</th>\n",
       "      <td>3831</td>\n",
       "      <td>Cozy Entire Floor of Brownstone</td>\n",
       "      <td>4869</td>\n",
       "      <td>LisaRoxanne</td>\n",
       "      <td>Brooklyn</td>\n",
       "      <td>Clinton Hill</td>\n",
       "      <td>40.68514</td>\n",
       "      <td>-73.95976</td>\n",
       "      <td>Entire home/apt</td>\n",
       "      <td>89</td>\n",
       "      <td>1</td>\n",
       "      <td>270</td>\n",
       "      <td>2019-07-05</td>\n",
       "      <td>4.64</td>\n",
       "      <td>1</td>\n",
       "      <td>194</td>\n",
       "    </tr>\n",
       "    <tr>\n",
       "      <th>4</th>\n",
       "      <td>5022</td>\n",
       "      <td>Entire Apt: Spacious Studio/Loft by central park</td>\n",
       "      <td>7192</td>\n",
       "      <td>Laura</td>\n",
       "      <td>Manhattan</td>\n",
       "      <td>East Harlem</td>\n",
       "      <td>40.79851</td>\n",
       "      <td>-73.94399</td>\n",
       "      <td>Entire home/apt</td>\n",
       "      <td>80</td>\n",
       "      <td>10</td>\n",
       "      <td>9</td>\n",
       "      <td>2018-11-19</td>\n",
       "      <td>0.10</td>\n",
       "      <td>1</td>\n",
       "      <td>0</td>\n",
       "    </tr>\n",
       "  </tbody>\n",
       "</table>\n",
       "</div>"
      ],
      "text/plain": [
       "     id                                              name  host_id  \\\n",
       "0  2539                Clean & quiet apt home by the park     2787   \n",
       "1  2595                             Skylit Midtown Castle     2845   \n",
       "2  3647               THE VILLAGE OF HARLEM....NEW YORK !     4632   \n",
       "3  3831                   Cozy Entire Floor of Brownstone     4869   \n",
       "4  5022  Entire Apt: Spacious Studio/Loft by central park     7192   \n",
       "\n",
       "     host_name neighbourhood_group neighbourhood  latitude  longitude  \\\n",
       "0         John            Brooklyn    Kensington  40.64749  -73.97237   \n",
       "1     Jennifer           Manhattan       Midtown  40.75362  -73.98377   \n",
       "2    Elisabeth           Manhattan        Harlem  40.80902  -73.94190   \n",
       "3  LisaRoxanne            Brooklyn  Clinton Hill  40.68514  -73.95976   \n",
       "4        Laura           Manhattan   East Harlem  40.79851  -73.94399   \n",
       "\n",
       "         room_type  price  minimum_nights  number_of_reviews last_review  \\\n",
       "0     Private room    149               1                  9  2018-10-19   \n",
       "1  Entire home/apt    225               1                 45  2019-05-21   \n",
       "2     Private room    150               3                  0         NaN   \n",
       "3  Entire home/apt     89               1                270  2019-07-05   \n",
       "4  Entire home/apt     80              10                  9  2018-11-19   \n",
       "\n",
       "   reviews_per_month  calculated_host_listings_count  availability_365  \n",
       "0               0.21                               6               365  \n",
       "1               0.38                               2               355  \n",
       "2                NaN                               1               365  \n",
       "3               4.64                               1               194  \n",
       "4               0.10                               1                 0  "
      ]
     },
     "execution_count": 146,
     "metadata": {},
     "output_type": "execute_result"
    }
   ],
   "source": [
    "# create a copied dataframe for listing\n",
    "\n",
    "NYC_BNB = df.copy()\n",
    "NYC_BNB.head()"
   ]
  },
  {
   "cell_type": "markdown",
   "id": "c38560a6-30ea-43e6-9d20-9408874ef882",
   "metadata": {},
   "source": [
    "# A. Drop all unnecessary columns (name,host_name, last_review)"
   ]
  },
  {
   "cell_type": "code",
   "execution_count": 147,
   "id": "6856d6a6-6e4c-423d-a139-1a3766589359",
   "metadata": {},
   "outputs": [
    {
     "name": "stdout",
     "output_type": "stream",
     "text": [
      "name column is droped now\n"
     ]
    },
    {
     "data": {
      "text/plain": [
       "id                                    0\n",
       "host_id                               0\n",
       "host_name                            21\n",
       "neighbourhood_group                   0\n",
       "neighbourhood                         0\n",
       "latitude                              0\n",
       "longitude                             0\n",
       "room_type                             0\n",
       "price                                 0\n",
       "minimum_nights                        0\n",
       "number_of_reviews                     0\n",
       "last_review                       10052\n",
       "reviews_per_month                 10052\n",
       "calculated_host_listings_count        0\n",
       "availability_365                      0\n",
       "dtype: int64"
      ]
     },
     "execution_count": 147,
     "metadata": {},
     "output_type": "execute_result"
    }
   ],
   "source": [
    "# drop unwanted columns\n",
    "\n",
    "NYC_BNB.drop('name',axis=1, inplace=True)\n",
    "print(\"name column is droped now\")\n",
    "\n",
    "NYC_BNB.isna().sum()"
   ]
  },
  {
   "cell_type": "code",
   "execution_count": 148,
   "id": "3aa69482-2adb-4672-a2bd-f295e087f248",
   "metadata": {},
   "outputs": [
    {
     "name": "stdout",
     "output_type": "stream",
     "text": [
      "host_name column is droped now\n"
     ]
    },
    {
     "data": {
      "text/plain": [
       "id                                    0\n",
       "host_id                               0\n",
       "neighbourhood_group                   0\n",
       "neighbourhood                         0\n",
       "latitude                              0\n",
       "longitude                             0\n",
       "room_type                             0\n",
       "price                                 0\n",
       "minimum_nights                        0\n",
       "number_of_reviews                     0\n",
       "last_review                       10052\n",
       "reviews_per_month                 10052\n",
       "calculated_host_listings_count        0\n",
       "availability_365                      0\n",
       "dtype: int64"
      ]
     },
     "execution_count": 148,
     "metadata": {},
     "output_type": "execute_result"
    }
   ],
   "source": [
    "NYC_BNB.drop('host_name',axis=1, inplace=True)\n",
    "print(\"host_name column is droped now\")\n",
    "\n",
    "NYC_BNB.isna().sum()"
   ]
  },
  {
   "cell_type": "code",
   "execution_count": 149,
   "id": "6b418300-1431-472d-895d-edd7279e653b",
   "metadata": {},
   "outputs": [
    {
     "name": "stdout",
     "output_type": "stream",
     "text": [
      "last_review column is droped now\n"
     ]
    },
    {
     "data": {
      "text/plain": [
       "id                                    0\n",
       "host_id                               0\n",
       "neighbourhood_group                   0\n",
       "neighbourhood                         0\n",
       "latitude                              0\n",
       "longitude                             0\n",
       "room_type                             0\n",
       "price                                 0\n",
       "minimum_nights                        0\n",
       "number_of_reviews                     0\n",
       "reviews_per_month                 10052\n",
       "calculated_host_listings_count        0\n",
       "availability_365                      0\n",
       "dtype: int64"
      ]
     },
     "execution_count": 149,
     "metadata": {},
     "output_type": "execute_result"
    }
   ],
   "source": [
    "NYC_BNB.drop('last_review',axis=1, inplace=True)\n",
    "print(\"last_review column is droped now\")\n",
    "\n",
    "NYC_BNB.isna().sum()"
   ]
  },
  {
   "cell_type": "markdown",
   "id": "9db8a49a-9aca-47d0-9e12-5a43949a73be",
   "metadata": {},
   "source": [
    "# B. Fill all NA values in reviews_per_month as 0"
   ]
  },
  {
   "cell_type": "code",
   "execution_count": 150,
   "id": "30f7c2aa-1e9f-4387-ba33-5ae3b702e983",
   "metadata": {},
   "outputs": [
    {
     "data": {
      "text/plain": [
       "id                                    0\n",
       "host_id                               0\n",
       "neighbourhood_group                   0\n",
       "neighbourhood                         0\n",
       "latitude                              0\n",
       "longitude                             0\n",
       "room_type                             0\n",
       "price                                 0\n",
       "minimum_nights                        0\n",
       "number_of_reviews                     0\n",
       "reviews_per_month                 10052\n",
       "calculated_host_listings_count        0\n",
       "availability_365                      0\n",
       "dtype: int64"
      ]
     },
     "execution_count": 150,
     "metadata": {},
     "output_type": "execute_result"
    }
   ],
   "source": [
    "# fill NA values in reviews_per_month as 0\n",
    "NYC_BNB['reviews_per_month'].fillna(0.0)\n",
    "NYC_BNB.isna().sum()"
   ]
  },
  {
   "cell_type": "markdown",
   "id": "11f35589-4783-44eb-9b73-d1660eab84e7",
   "metadata": {},
   "source": [
    "# C. Drop all listings with price as 0"
   ]
  },
  {
   "cell_type": "code",
   "execution_count": 151,
   "id": "2143de6e-32ed-4307-962c-15e502087559",
   "metadata": {},
   "outputs": [],
   "source": [
    "# drop all listings of price 0\n",
    "NYC_BNB.drop(NYC_BNB[NYC_BNB['price'] == 0].index.values, axis = 0,inplace=True)"
   ]
  },
  {
   "cell_type": "markdown",
   "id": "2efbc03e-5df3-47a0-b6ae-37b3fc94d13e",
   "metadata": {},
   "source": [
    "# D. Drop all listings with price as 0"
   ]
  },
  {
   "cell_type": "code",
   "execution_count": 152,
   "id": "bbc35ea1-3b97-433a-87a5-8a8d4fe68f1f",
   "metadata": {},
   "outputs": [
    {
     "name": "stdout",
     "output_type": "stream",
     "text": [
      "\n",
      "Number of zero values in the 'price' column: 0\n"
     ]
    }
   ],
   "source": [
    "zero_price_count = (NYC_BNB['price'] == 0).sum()\n",
    "\n",
    "print(f\"\\nNumber of zero values in the 'price' column: {zero_price_count}\")"
   ]
  },
  {
   "cell_type": "code",
   "execution_count": 153,
   "id": "8df04322-7c52-4902-8ad1-fe86550b1237",
   "metadata": {},
   "outputs": [
    {
     "name": "stdout",
     "output_type": "stream",
     "text": [
      "<class 'pandas.core.frame.DataFrame'>\n",
      "Index: 48884 entries, 0 to 48894\n",
      "Data columns (total 13 columns):\n",
      " #   Column                          Non-Null Count  Dtype  \n",
      "---  ------                          --------------  -----  \n",
      " 0   id                              48884 non-null  int64  \n",
      " 1   host_id                         48884 non-null  int64  \n",
      " 2   neighbourhood_group             48884 non-null  object \n",
      " 3   neighbourhood                   48884 non-null  object \n",
      " 4   latitude                        48884 non-null  float64\n",
      " 5   longitude                       48884 non-null  float64\n",
      " 6   room_type                       48884 non-null  object \n",
      " 7   price                           48884 non-null  int64  \n",
      " 8   minimum_nights                  48884 non-null  int64  \n",
      " 9   number_of_reviews               48884 non-null  int64  \n",
      " 10  reviews_per_month               38833 non-null  float64\n",
      " 11  calculated_host_listings_count  48884 non-null  int64  \n",
      " 12  availability_365                48884 non-null  int64  \n",
      "dtypes: float64(3), int64(7), object(3)\n",
      "memory usage: 5.2+ MB\n"
     ]
    }
   ],
   "source": [
    "NYC_BNB.info()"
   ]
  },
  {
   "cell_type": "markdown",
   "id": "509ac2c4-4453-4bdc-ab89-5b2a5846e312",
   "metadata": {},
   "source": [
    "# Through the wrangling steps, we understand that we are dealing with a dataset around 50,000 observations and 13 columns. Now the cleaned dataset doesn't have missing values, and users' sensitive values have been removed."
   ]
  },
  {
   "cell_type": "markdown",
   "id": "c16ef741-a390-4d63-a4f3-5706b61f89f1",
   "metadata": {},
   "source": [
    "# 3.DUPLICATE REMOVAL"
   ]
  },
  {
   "cell_type": "code",
   "execution_count": 154,
   "id": "fc593882-2709-4a2b-8566-1122e128612d",
   "metadata": {},
   "outputs": [
    {
     "name": "stdout",
     "output_type": "stream",
     "text": [
      "<class 'pandas.core.frame.DataFrame'>\n",
      "Index: 48884 entries, 0 to 48894\n",
      "Data columns (total 13 columns):\n",
      " #   Column                          Non-Null Count  Dtype  \n",
      "---  ------                          --------------  -----  \n",
      " 0   id                              48884 non-null  int64  \n",
      " 1   host_id                         48884 non-null  int64  \n",
      " 2   neighbourhood_group             48884 non-null  object \n",
      " 3   neighbourhood                   48884 non-null  object \n",
      " 4   latitude                        48884 non-null  float64\n",
      " 5   longitude                       48884 non-null  float64\n",
      " 6   room_type                       48884 non-null  object \n",
      " 7   price                           48884 non-null  int64  \n",
      " 8   minimum_nights                  48884 non-null  int64  \n",
      " 9   number_of_reviews               48884 non-null  int64  \n",
      " 10  reviews_per_month               38833 non-null  float64\n",
      " 11  calculated_host_listings_count  48884 non-null  int64  \n",
      " 12  availability_365                48884 non-null  int64  \n",
      "dtypes: float64(3), int64(7), object(3)\n",
      "memory usage: 5.2+ MB\n",
      "Information of the dataset: \n",
      " None\n"
     ]
    },
    {
     "name": "stdout",
     "output_type": "stream",
     "text": [
      "After removing duplicates: \n",
      " None\n",
      "Size of the dataset after removing duplicates: \n",
      " 635492\n"
     ]
    }
   ],
   "source": [
    "print(\"Information of the dataset: \\n\",NYC_BNB.info())\n",
    "print(\"After removing duplicates: \\n\",NYC_BNB.drop_duplicates(inplace=True)) #cleaning the data by checking the duplicates\n",
    "print(\"Size of the dataset after removing duplicates: \\n\",NYC_BNB.size)"
   ]
  },
  {
   "cell_type": "markdown",
   "id": "48f0fb03-f003-419a-9d2d-17c5aa1de611",
   "metadata": {},
   "source": [
    "# 4. STANDARDIZATION "
   ]
  },
  {
   "cell_type": "code",
   "execution_count": 155,
   "id": "adfb0ad7-1037-47ea-bec6-1fbd981a59c3",
   "metadata": {},
   "outputs": [
    {
     "name": "stdout",
     "output_type": "stream",
     "text": [
      "Numerical columns:  Index(['id', 'host_id', 'latitude', 'longitude', 'price', 'minimum_nights',\n",
      "       'number_of_reviews', 'reviews_per_month',\n",
      "       'calculated_host_listings_count', 'availability_365'],\n",
      "      dtype='object')\n",
      "Categorical columns:  Index(['neighbourhood_group', 'neighbourhood', 'room_type'], dtype='object')\n"
     ]
    }
   ],
   "source": [
    "# numerical columns\n",
    "numerical_data = NYC_BNB.select_dtypes(exclude = ['object']).columns\n",
    "print(\"Numerical columns: \",numerical_data)\n",
    "# categorical columns\n",
    "categorical_data = NYC_BNB.select_dtypes(include = ['object']).columns\n",
    "print(\"Categorical columns: \",categorical_data)"
   ]
  },
  {
   "cell_type": "code",
   "execution_count": 156,
   "id": "7bfcebb7-518a-44ea-88d5-79df740f106b",
   "metadata": {},
   "outputs": [],
   "source": [
    "# change data types for specified columns from 'object' to 'categorical'\n",
    "NYC_BNB[['neighbourhood_group','neighbourhood','room_type']] = NYC_BNB[['neighbourhood_group','neighbourhood','room_type']].astype('category')\n"
   ]
  },
  {
   "cell_type": "code",
   "execution_count": 157,
   "id": "3d53c256-40bc-4944-891b-9a33dcb27905",
   "metadata": {},
   "outputs": [
    {
     "name": "stdout",
     "output_type": "stream",
     "text": [
      "<class 'pandas.core.frame.DataFrame'>\n",
      "Index: 48884 entries, 0 to 48894\n",
      "Data columns (total 13 columns):\n",
      " #   Column                          Non-Null Count  Dtype   \n",
      "---  ------                          --------------  -----   \n",
      " 0   id                              48884 non-null  int64   \n",
      " 1   host_id                         48884 non-null  int64   \n",
      " 2   neighbourhood_group             48884 non-null  category\n",
      " 3   neighbourhood                   48884 non-null  category\n",
      " 4   latitude                        48884 non-null  float64 \n",
      " 5   longitude                       48884 non-null  float64 \n",
      " 6   room_type                       48884 non-null  category\n",
      " 7   price                           48884 non-null  int64   \n",
      " 8   minimum_nights                  48884 non-null  int64   \n",
      " 9   number_of_reviews               48884 non-null  int64   \n",
      " 10  reviews_per_month               38833 non-null  float64 \n",
      " 11  calculated_host_listings_count  48884 non-null  int64   \n",
      " 12  availability_365                48884 non-null  int64   \n",
      "dtypes: category(3), float64(3), int64(7)\n",
      "memory usage: 4.3 MB\n"
     ]
    }
   ],
   "source": [
    "NYC_BNB.info()"
   ]
  },
  {
   "cell_type": "markdown",
   "id": "9e598562-1092-4b6e-b657-08b1afde4984",
   "metadata": {},
   "source": [
    "# 5. OUTLIER DETECTION"
   ]
  },
  {
   "cell_type": "code",
   "execution_count": 158,
   "id": "3539d9a8",
   "metadata": {},
   "outputs": [],
   "source": [
    "# Outlier Treatment\n",
    "# Price and area have considerable outliers.\n",
    "# We can drop the outliers as we have sufficient data."
   ]
  },
  {
   "cell_type": "markdown",
   "id": "1d746e13",
   "metadata": {},
   "source": [
    "#                                IDENTIFYING OUTLIERS USING Z-SCORE"
   ]
  },
  {
   "cell_type": "code",
   "execution_count": 159,
   "id": "2a7758e7",
   "metadata": {},
   "outputs": [
    {
     "name": "stdout",
     "output_type": "stream",
     "text": [
      "Outliers FOUND \n",
      ":              id    host_id neighbourhood_group       neighbourhood  latitude  \\\n",
      "496      174966     836168           Manhattan     Upper West Side  40.77350   \n",
      "762      273190     605463           Manhattan        West Village  40.73301   \n",
      "946      363673     256239           Manhattan     Upper West Side  40.80142   \n",
      "1105     468613    2325861           Manhattan     Lower East Side  40.72152   \n",
      "1414     634353     836168           Manhattan     Upper West Side  40.77428   \n",
      "...         ...        ...                 ...                 ...       ...   \n",
      "48301  36186719  268920555           Manhattan             Chelsea  40.74531   \n",
      "48304  36189195  270214015           Manhattan      Hell's Kitchen  40.75533   \n",
      "48305  36189257  272166348           Manhattan     Upper East Side  40.78132   \n",
      "48523  36308562  217732163            Brooklyn  Bedford-Stuyvesant  40.68767   \n",
      "48535  36311055  245712163            Brooklyn  Bedford-Stuyvesant  40.68245   \n",
      "\n",
      "       longitude        room_type  price  minimum_nights  number_of_reviews  \\\n",
      "496    -73.98697  Entire home/apt   2000              30                 30   \n",
      "762    -74.00268  Entire home/apt   1300               5                 28   \n",
      "946    -73.96931     Private room   3000               7                  0   \n",
      "1105   -73.99279     Private room   1300               1                  0   \n",
      "1414   -73.98594  Entire home/apt   1000              30                 44   \n",
      "...          ...              ...    ...             ...                ...   \n",
      "48301  -73.99454     Private room    999              30                  0   \n",
      "48304  -73.99866  Entire home/apt   2999              30                  0   \n",
      "48305  -73.95262  Entire home/apt   1999              30                  0   \n",
      "48523  -73.95805  Entire home/apt   1369               1                  0   \n",
      "48535  -73.93417  Entire home/apt   1749               1                  0   \n",
      "\n",
      "       reviews_per_month  calculated_host_listings_count  availability_365  \\\n",
      "496                 0.33                              11                 0   \n",
      "762                 0.31                               4               297   \n",
      "946                  NaN                               1               365   \n",
      "1105                 NaN                               1                 0   \n",
      "1414                0.53                              11               364   \n",
      "...                  ...                             ...               ...   \n",
      "48301                NaN                               1               270   \n",
      "48304                NaN                               1               222   \n",
      "48305                NaN                               1               270   \n",
      "48523                NaN                               1               349   \n",
      "48535                NaN                               1               303   \n",
      "\n",
      "         Z-Score  \n",
      "496     7.691398  \n",
      "762     4.776799  \n",
      "946    11.855110  \n",
      "1105    4.776799  \n",
      "1414    3.527685  \n",
      "...          ...  \n",
      "48301   3.523521  \n",
      "48304  11.850947  \n",
      "48305   7.687234  \n",
      "48523   5.064095  \n",
      "48535   6.646306  \n",
      "\n",
      "[388 rows x 14 columns]\n"
     ]
    }
   ],
   "source": [
    "import pandas as pd\n",
    "import numpy as np\n",
    "\n",
    "# Example function to detect outliers based on Z-score\n",
    "def detect_outliers_zscore(df, column_name, threshold=3):\n",
    "    if df is not None and column_name in df.columns:\n",
    "        # Calculate Z-scores\n",
    "        df['Z-Score'] = (df[column_name] - df[column_name].mean()) / df[column_name].std()\n",
    "        \n",
    "        # Identify outliers\n",
    "        outliers = df[df['Z-Score'].abs() > threshold]\n",
    "        return outliers\n",
    "    else:\n",
    "        print(\"DataFrame is None or column does not exist.\")\n",
    "        return None\n",
    "\n",
    "\n",
    "# Call the function with the DataFrame and column name\n",
    "outliers = detect_outliers_zscore(NYC_BNB, 'price')\n",
    "\n",
    "# Check if outliers were found\n",
    "if outliers is not None:\n",
    "    print(\"Outliers FOUND \\n:\", outliers)\n",
    "else:\n",
    "    print(\"No outliers found or DataFrame issue.\")\n"
   ]
  },
  {
   "cell_type": "markdown",
   "id": "6c6909aa",
   "metadata": {},
   "source": [
    "#                                              ADRESSING OUTLIERS "
   ]
  },
  {
   "cell_type": "code",
   "execution_count": 160,
   "id": "a3ead177",
   "metadata": {},
   "outputs": [
    {
     "name": "stdout",
     "output_type": "stream",
     "text": [
      "NO OUTLIER LEFT \n",
      "      id  host_id neighbourhood_group neighbourhood  latitude  longitude  \\\n",
      "0  2539     2787            Brooklyn    Kensington  40.64749  -73.97237   \n",
      "1  2595     2845           Manhattan       Midtown  40.75362  -73.98377   \n",
      "2  3647     4632           Manhattan        Harlem  40.80902  -73.94190   \n",
      "3  3831     4869            Brooklyn  Clinton Hill  40.68514  -73.95976   \n",
      "4  5022     7192           Manhattan   East Harlem  40.79851  -73.94399   \n",
      "\n",
      "         room_type  price  minimum_nights  number_of_reviews  \\\n",
      "0     Private room    149               1                  9   \n",
      "1  Entire home/apt    225               1                 45   \n",
      "2     Private room    150               3                  0   \n",
      "3  Entire home/apt     89               1                270   \n",
      "4  Entire home/apt     80              10                  9   \n",
      "\n",
      "   reviews_per_month  calculated_host_listings_count  availability_365  \\\n",
      "0               0.21                               6               365   \n",
      "1               0.38                               2               355   \n",
      "2                NaN                               1               365   \n",
      "3               4.64                               1               194   \n",
      "4               0.10                               1                 0   \n",
      "\n",
      "    Z-Score  \n",
      "0 -0.015635  \n",
      "1  0.300807  \n",
      "2 -0.011471  \n",
      "3 -0.265458  \n",
      "4 -0.302931  \n"
     ]
    }
   ],
   "source": [
    "import pandas as pd\n",
    "import numpy as np\n",
    "\n",
    "if NYC_BNB is not None and 'price' in NYC_BNB.columns:\n",
    "    # Calculate Z-scores\n",
    "    NYC_BNB['Z-Score'] = (NYC_BNB['price'] - NYC_BNB['price'].mean()) / NYC_BNB['price'].std()\n",
    "    \n",
    "    # Check if Z-Score column was created\n",
    "    if 'Z-Score' in NYC_BNB.columns:\n",
    "        # Remove outliers\n",
    "        NYC_BNB_no_outliers = NYC_BNB[NYC_BNB['Z-Score'].abs() <= 3]\n",
    "        print(\"NO OUTLIER LEFT \\n\",NYC_BNB_no_outliers.head())  # Display the first few rows without outliers\n",
    "    else:\n",
    "        print(\"'Z-Score' column is missing. Please calculate it first.\")\n",
    "else:\n",
    "    print(\"DataFrame is None or 'price' column is missing.\")\n"
   ]
  },
  {
   "cell_type": "markdown",
   "id": "6b00b90d",
   "metadata": {},
   "source": [
    "#                     NO OUTLIERS LEFT IN THE DATA SET"
   ]
  },
  {
   "cell_type": "code",
   "execution_count": 161,
   "id": "fccc6386",
   "metadata": {},
   "outputs": [
    {
     "data": {
      "image/png": "[encoded data removed]",
      "text/plain": [
       "<Figure size 1000x600 with 1 Axes>"
      ]
     },
     "metadata": {},
     "output_type": "display_data"
    }
   ],
   "source": [
    "import matplotlib.pyplot as plt\n",
    "\n",
    "# Plot histogram of Z-scores after filtering\n",
    "plt.figure(figsize=(10, 6))\n",
    "plt.hist(NYC_BNB_no_outliers['Z-Score'], bins=30, edgecolor='k', alpha=0.7)\n",
    "plt.axvline(x=-3, color='r', linestyle='--', label='Z = -3')\n",
    "plt.axvline(x=3, color='r', linestyle='--', label='Z = 3')\n",
    "plt.xlabel('Z-Score')\n",
    "plt.ylabel('Frequency')\n",
    "plt.title('Histogram of Z-Scores After Filtering')\n",
    "plt.legend()\n",
    "plt.show()\n"
   ]
  },
  {
   "cell_type": "markdown",
   "id": "00d23b9a",
   "metadata": {},
   "source": [
    "#                                                  INTERPRETATIOIN"
   ]
  },
  {
   "cell_type": "markdown",
   "id": "713a1af0",
   "metadata": {},
   "source": [
    "\n",
    "Impact: Extreme values in price can skew results.\n",
    "Address: Detect using Z-scores or box plots; handle by removing or transforming.\n",
    "\n",
    "Impact: Missing data in columns like reviews_per_month affects model accuracy.\n",
    "Address: Impute with mean/median or use advanced methods; consider adding an indicator for missingness.\n",
    "\n",
    "Impact: High correlation between features like price and number_of_reviews can affect model stability.\n",
    "Address: Use correlation matrices or VIF to detect; remove or combine features, or use PCA.\n",
    "\n",
    "Impact: External or future information can lead to unrealistic performance metrics.\n",
    "Address: Properly split data into training and testing sets; avoid features that might include future information.\n",
    "\n",
    "Impact: Imbalance in features like room_type can bias models.\n",
    "Address: Use resampling techniques (e.g., SMOTE) or algorithms that handle imbalanced data.\n",
    "\n",
    "Impact: Assumptions like linearity may not fit all features.\n",
    "Address: Test assumptions; use models that don’t rely on strict assumptions.\n",
    "\n",
    "Impact: Model may perform well on training data but poorly on new data.\n",
    "Address: Use cross-validation; apply regularization methods.\n",
    "\n",
    "Impact: Too-simple models may not capture important patterns.\n",
    "Address: Increase model complexity; improve feature engineering.\n",
    "\n",
    "Impact: Different scales can affect model performance.\n",
    "Address: Normalize or standardize features as needed.\n",
    "\n",
    "Impact: Errors in features like price can reduce accuracy.\n",
    "Address: Clean data and use robust models.\n",
    "\n",
    "Investigate and address outliers in price.\n",
    "Impute missing reviews_per_month.\n",
    "Check and resolve multicollinearity between number_of_reviews and reviews_per_month.\n",
    "Handle class imbalance in room_type.\n",
    "Validate and regularize models to avoid overfitting and underfitting.\n",
    "Addressing these factors will enhance the accuracy and reliability of your analysis and models."
   ]
  },
  {
   "cell_type": "markdown",
   "id": "78d45db3-b650-4e10-80a1-37bfb62cdb0d",
   "metadata": {},
   "source": [
    "# data has no outlier"
   ]
  },
  {
   "cell_type": "code",
   "execution_count": 162,
   "id": "795a092a-f805-432f-9a24-6a979f02a846",
   "metadata": {},
   "outputs": [],
   "source": [
    "NYC_BNB_no_outliers=df.to_csv(\"/home/ammar-ahmed-siddiqui/Downloads/drive-download-20240815T044351Z-001/AB_NYC_submission.csv\")"
   ]
  },
  {
   "cell_type": "markdown",
   "id": "6da4aead-5eac-401f-9b03-1c243c04413f",
   "metadata": {},
   "source": [
    "# AUTHOR"
   ]
  },
  {
   "cell_type": "markdown",
   "id": "c9f7fb3d",
   "metadata": {},
   "source": [
    "FARYAL SHAKEEL\n",
    "BS-COMPUTER SCIENCE"
   ]
  },
  {
   "cell_type": "markdown",
   "id": "e399bdc3",
   "metadata": {},
   "source": [
    "OASIS-INFOBYTES DATA ANALYTICS INTERNSHIP\n",
    "TASK NEWYORK AIRBNB DATA WRANGLING/CLEANING"
   ]
  },
  {
   "cell_type": "code",
   "execution_count": null,
   "id": "0067674a-f372-403d-93ff-3ffb86f68364",
   "metadata": {},
   "outputs": [],
   "source": []
  }
 ],
 "metadata": {
  "kernelspec": {
   "display_name": "Python 3 (ipykernel)",
   "language": "python",
   "name": "python3"
  },
  "language_info": {
   "codemirror_mode": {
    "name": "ipython",
    "version": 3
   },
   "file_extension": ".py",
   "mimetype": "text/x-python",
   "name": "python",
   "nbconvert_exporter": "python",
   "pygments_lexer": "ipython3",
   "version": "3.11.7"
  }
 },
 "nbformat": 4,
 "nbformat_minor": 5
}
